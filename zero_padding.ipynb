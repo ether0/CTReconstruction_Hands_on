{
 "cells": [
  {
   "cell_type": "markdown",
   "metadata": {},
   "source": [
    "# Effect of zero-padding in fft/ifft\n",
    "\n",
    "With an example of Ram-Lak filter"
   ]
  },
  {
   "cell_type": "code",
   "execution_count": null,
   "metadata": {
    "vscode": {
     "languageId": "plaintext"
    }
   },
   "outputs": [],
   "source": [
    "import numpy as np\n",
    "import matplotlib.pyplot as plt\n",
    "from numpy.fft import fft, ifft, fftshift, ifftshift"
   ]
  },
  {
   "cell_type": "markdown",
   "metadata": {},
   "source": [
    "1. Define a Ram-Lak filter\n",
    "\n",
    "$$\n",
    "h(n \\tau) =\n",
    "\\begin{cases} \n",
    "\\frac{1}{4 \\tau^2} & \\text{for } n = 0 \\\\\n",
    "0 & \\text{for } n \\text{ even, } n \\neq 0 \\\\\n",
    "-\\frac{1}{n^2 \\pi^2 \\tau^2} & \\text{for } n \\text{ odd}.\n",
    "\\end{cases}\n",
    "$$\n",
    "\n",
    "[1] Kak, Avinash C., and Malcolm Slaney. Principles of computerized tomographic imaging. Society for Industrial and Applied Mathematics, 2001."
   ]
  },
  {
   "cell_type": "code",
   "execution_count": null,
   "metadata": {
    "vscode": {
     "languageId": "plaintext"
    }
   },
   "outputs": [],
   "source": [
    "# see Reconstruction.Filter\n",
    "num_points = 129\n",
    "dx = 0.1\n",
    "w0 = 1/(2*dx) # Nyquist frequency\n",
    "\n",
    "x_coord = np.linspace(-(num_points-1) * dx/2, (num_points-1) * dx/2, num_points)\n",
    "x = np.arange(0, num_points) - (num_points - 1) / 2.0\n",
    "w_coord = x / (num_points * dx)\n",
    "\n",
    "h = np.zeros(len(x))\n",
    "#################### Your code here ####################\n",
    "\n",
    "########################################################\n",
    "\n",
    "\n",
    "filter_RL = np.abs(fftshift(fft(h)))\n",
    "filter_RL[np.where(abs(w_coord) > w0)] = 0\n"
   ]
  },
  {
   "cell_type": "markdown",
   "metadata": {},
   "source": [
    "2. Design an ideal ramp filter in the frequency domain"
   ]
  },
  {
   "cell_type": "code",
   "execution_count": null,
   "metadata": {
    "vscode": {
     "languageId": "plaintext"
    }
   },
   "outputs": [],
   "source": [
    "# extend w_coord to > w0\n",
    "padding_n = 10000\n",
    "dw = w_coord[1] - w_coord[0]\n",
    "w_coord_ext_l = np.linspace(w_coord[0] - dw * padding_n, w_coord[0], padding_n)\n",
    "w_coord_ext_r = np.linspace(w_coord[-1], w_coord[-1] + dw * padding_n, padding_n)\n",
    "w_coord_ext = np.concatenate((w_coord_ext_l, w_coord, w_coord_ext_r))"
   ]
  },
  {
   "cell_type": "code",
   "execution_count": null,
   "metadata": {
    "vscode": {
     "languageId": "plaintext"
    }
   },
   "outputs": [],
   "source": [
    "filter_ramp = np.zeros_like(w_coord_ext)\n",
    "#################### Your code here ####################\n",
    "\n",
    "########################################################\n",
    "filter_ramp /= dx\n",
    "filter_ramp[np.where(abs(w_coord_ext) > w0)] = 0\n",
    "\n",
    "h_ramp = np.real(ifft(ifftshift(filter_ramp)))\n",
    "h_ramp = h_ramp / np.max(h_ramp) * np.max(h)\n",
    "x_coord_ext = np.fft.fftfreq(len(filter_ramp), d=(w_coord_ext[1] - w_coord_ext[0]))\n"
   ]
  },
  {
   "cell_type": "markdown",
   "metadata": {},
   "source": [
    "3. Plot"
   ]
  },
  {
   "cell_type": "code",
   "execution_count": null,
   "metadata": {
    "vscode": {
     "languageId": "plaintext"
    }
   },
   "outputs": [],
   "source": [
    "fig, ax = plt.subplots(2, 1, figsize=(12, 8))\n",
    "ax[0].plot(x_coord_ext, h_ramp, label='Ramp', linestyle = 'none', marker='o', markersize = 3)\n",
    "ax[0].plot(x_coord, h, label='Ram-Lak', linestyle = 'none', marker='o', markersize = 3)\n",
    "ax[0].set_title('Spatial Domain')\n",
    "ax[0].set_xlabel('Position (x)')\n",
    "# ax[0].set_xlim(-2.5, 2.5)\n",
    "ax[0].legend()\n",
    "\n",
    "ax[1].plot(w_coord_ext, filter_ramp, label='Ramp', marker='o', markersize = 3)\n",
    "ax[1].plot(w_coord, filter_RL, label='Ram-Lak', linestyle = 'none', marker='o', markersize = 3)\n",
    "ax[1].set_title('Frequency Domain')\n",
    "ax[1].set_xlabel('Frequency (w)')\n",
    "# ax[1].set_xlim(-10, 10)\n",
    "ax[1].legend()\n",
    "\n",
    "plt.tight_layout()\n",
    "plt.show()"
   ]
  }
 ],
 "metadata": {
  "language_info": {
   "name": "python"
  }
 },
 "nbformat": 4,
 "nbformat_minor": 2
}
