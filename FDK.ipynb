{
 "cells": [
  {
   "cell_type": "markdown",
   "metadata": {},
   "source": [
    "# FDK Reconstruction"
   ]
  },
  {
   "cell_type": "code",
   "execution_count": 2,
   "metadata": {},
   "outputs": [],
   "source": [
    "import os, sys, glob\n",
    "import numpy as np\n",
    "import logging\n",
    "import time\n",
    "import matplotlib.pyplot as plt\n",
    "\n",
    "if 'google.colab' in sys.modules:\n",
    "    from google.colab import drive\n",
    "    drive.mount('/content/drive')\n",
    "    my_directory = '[[MY_Google_drive_directory]]'\n",
    "    os.chdir(f'/content/drive/MyDrive/{my_directory}')\n",
    "    !pip install pycuda\n",
    "\n",
    "from Reconstruction_pycuda import Reconstruction\n",
    "\n",
    "pi = np.pi\n",
    "logging.basicConfig(level = logging.INFO)\n",
    "log = logging.getLogger(__name__)\n",
    "log.setLevel(logging.DEBUG)"
   ]
  },
  {
   "cell_type": "code",
   "execution_count": 3,
   "metadata": {},
   "outputs": [],
   "source": [
    "nn = 256\n",
    "NumberOfDetectorPixels = [512, 384]\n",
    "NumberOfViews = 90\n",
    "FilterType = 'ram-lak'\n",
    "\n",
    "savedir = 'results'\n",
    "if not os.path.exists(savedir):\n",
    "    os.makedirs(savedir)\n",
    "\n",
    "params = {'SourceInit': [0, 1000.0, 0], 'DetectorInit': [0, -500.0, 0], 'StartAngle': 0, 'EndAngle': 2 * pi,\n",
    "          'NumberOfDetectorPixels': NumberOfDetectorPixels, 'DetectorPixelSize': [0.5, 0.5], 'NumberOfViews': NumberOfViews,\n",
    "          'ImagePixelSpacing': [0.5, 0.5, 0.5], 'NumberOfImage': [nn, nn, nn], 'PhantomCenter': [0, 0, 0],\n",
    "          'RotationOrigin': [0, 0, 0], 'ReconCenter': [0, 0, 0], 'Method': 'Distance', 'FilterType': FilterType,\n",
    "          'cutoff': 1, 'GPU': 1, 'DetectorShape': 'Flat', 'Pitch': 0, 'DetectorOffset': [0, 0]}\n",
    "\n",
    "R = Reconstruction(params)\n",
    "\n",
    "filename = os.path.join('phantoms', f'Shepp_Logan_3d_({nn}x{nn}x{nn}).raw')\n",
    "R.LoadRecon(filename)\n",
    "\n",
    "ph = R.image"
   ]
  },
  {
   "cell_type": "markdown",
   "metadata": {},
   "source": [
    "### Analytic projection"
   ]
  },
  {
   "cell_type": "code",
   "execution_count": 9,
   "metadata": {},
   "outputs": [
    {
     "name": "stderr",
     "output_type": "stream",
     "text": [
      "INFO:__main__:Forward 2.695 sec\n"
     ]
    }
   ],
   "source": [
    "start_time = time.time()\n",
    "R.forward()\n",
    "log.info(f'Forward {time.time() - start_time:.3f} sec')\n",
    "proj0 = np.copy(R.proj)\n",
    "R.SaveProj(os.path.join(savedir, f'proj_SheppLogan_({R.proj.shape[2]}x{R.proj.shape[1]}x{R.proj.shape[0]}).raw'))"
   ]
  },
  {
   "cell_type": "code",
   "execution_count": null,
   "metadata": {},
   "outputs": [],
   "source": [
    "plt.figure()\n",
    "plt.imshow(proj0[:, 250, :], cmap='gray')\n",
    "plt.show()"
   ]
  },
  {
   "cell_type": "markdown",
   "metadata": {},
   "source": [
    "### Backprojection"
   ]
  },
  {
   "cell_type": "code",
   "execution_count": 10,
   "metadata": {},
   "outputs": [
    {
     "name": "stderr",
     "output_type": "stream",
     "text": [
      "INFO:__main__:Backward: 1.876 sec\n"
     ]
    }
   ],
   "source": [
    "start_time = time.time()\n",
    "R.backward()\n",
    "log.info(f'Backward: {time.time() - start_time:.3f} sec')\n",
    "R.SaveRecon(os.path.join(savedir, f'BP_SheppLogan_({R.image.shape[2]}x{R.image.shape[1]}x{R.image.shape[0]}).raw'))\n",
    "bp = np.copy(R.image)"
   ]
  },
  {
   "cell_type": "code",
   "execution_count": null,
   "metadata": {},
   "outputs": [],
   "source": [
    "plt.figure()\n",
    "plt.imshow(bp[81, :, :], cmap='gray')\n",
    "plt.show()"
   ]
  },
  {
   "cell_type": "markdown",
   "metadata": {},
   "source": [
    "### FDK Reconstruction"
   ]
  },
  {
   "cell_type": "code",
   "execution_count": null,
   "metadata": {},
   "outputs": [],
   "source": [
    "R.image = np.zeros(params['NumberOfImage'], dtype=np.float32)\n",
    "start_time = time.time()\n",
    "R.Filtering()\n",
    "R.backward()\n",
    "log.info(f'FDK: {time.time() - start_time:.3f} sec')\n",
    "R.SaveRecon(os.path.join(savedir, f'Recon_SheppLogan_fdk_({R.image.shape[2]}x{R.image.shape[1]}x{R.image.shape[0]}).raw'))"
   ]
  },
  {
   "cell_type": "code",
   "execution_count": null,
   "metadata": {},
   "outputs": [],
   "source": [
    "plt.figure()\n",
    "plt.imshow(R.image[81, :, :], cmap='gray')\n",
    "plt.show()"
   ]
  }
 ],
 "metadata": {
  "kernelspec": {
   "display_name": "recon",
   "language": "python",
   "name": "python3"
  },
  "language_info": {
   "codemirror_mode": {
    "name": "ipython",
    "version": 3
   },
   "file_extension": ".py",
   "mimetype": "text/x-python",
   "name": "python",
   "nbconvert_exporter": "python",
   "pygments_lexer": "ipython3",
   "version": "3.10.14"
  }
 },
 "nbformat": 4,
 "nbformat_minor": 2
}
