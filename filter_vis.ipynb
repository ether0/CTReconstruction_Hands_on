{
 "cells": [
  {
   "cell_type": "markdown",
   "metadata": {},
   "source": [
    "# Reconstruction Filters"
   ]
  },
  {
   "cell_type": "code",
   "execution_count": 1,
   "metadata": {},
   "outputs": [],
   "source": [
    "from Reconstruction_pycuda import Reconstruction\n",
    "import numpy as np\n",
    "import matplotlib.pyplot as plt\n",
    "from numpy.fft import fft, ifft, fftshift, ifftshift"
   ]
  },
  {
   "cell_type": "markdown",
   "metadata": {},
   "source": [
    "1. Parameters"
   ]
  },
  {
   "cell_type": "code",
   "execution_count": 2,
   "metadata": {},
   "outputs": [],
   "source": [
    "Source = np.array([0, 1000.0, 0])\n",
    "Detector = np.array([0, -500.0, 0])\n",
    "Origin = np.array([0, 0, 0])\n",
    "nu = 512\n",
    "du = 0.5\n",
    "\n",
    "ZeroPaddedLength = int(2 ** (np.ceil(np.log2(2.0 * (nu - 1)))))\n",
    "R = np.sqrt(np.sum((Source - Origin) ** 2.0))\n",
    "D = np.sqrt(np.sum((Source - Detector) ** 2.0)) - R\n",
    "N = ZeroPaddedLength + 1\n",
    "pixel_size = du * R / (D + R)\n",
    "cutoff = 0.8"
   ]
  },
  {
   "cell_type": "markdown",
   "metadata": {},
   "source": [
    "2. Design filters"
   ]
  },
  {
   "cell_type": "code",
   "execution_count": 4,
   "metadata": {},
   "outputs": [],
   "source": [
    "filter_dict = {}\n",
    "filter_list = ['ram-lak', 'shepp-logan', 'cosine', 'hamming', 'hann']\n",
    "\n",
    "# Ideal ramp filter\n",
    "x = np.arange(0, N) - (N - 1) / 2.0\n",
    "w = x[0:-1] / ((N - 1) * pixel_size)\n",
    "\n",
    "filter = 1/2 * np.abs(w)\n",
    "filter /= pixel_size\n",
    "\n",
    "filter[np.where(abs(w) > cutoff / (2.0 * pixel_size))] = 0\n",
    "filter_dict['ideal ramp'] = filter\n",
    "\n",
    "for FilterType in filter_list:\n",
    "    filter = Reconstruction.Filter(N, pixel_size, FilterType, cutoff)\n",
    "    filter_dict[FilterType] = filter"
   ]
  },
  {
   "cell_type": "markdown",
   "metadata": {},
   "source": [
    "3. Plot"
   ]
  },
  {
   "cell_type": "code",
   "execution_count": null,
   "metadata": {},
   "outputs": [],
   "source": [
    "fig, ax = plt.subplots(1, 2, figsize=(16, 6))\n",
    "\n",
    "# all filters\n",
    "for key, value in filter_dict.items():\n",
    "    ax[0].plot(w, value, label=key)\n",
    "ax[0].set_title('All filters')\n",
    "ax[0].legend()\n",
    "\n",
    "# ramp and ram-lak, zoomed in\n",
    "ax[1].axhline(y=0, color='k', linewidth=0.5)\n",
    "ax[1].axvline(x=0, color='k', linewidth=0.5)\n",
    "\n",
    "for key, value in filter_dict.items():\n",
    "    if key in ['ideal ramp', 'ram-lak']:\n",
    "        ax[1].plot(w, value, label=key)\n",
    "                \n",
    "ax[1].set_title('Ideal ramp filter vs Ram-Lak')\n",
    "ax[1].legend()\n",
    "\n",
    "zoom = 5\n",
    "dw = w[1]-w[0]\n",
    "zoom_margin = filter_dict['ideal ramp'][ZeroPaddedLength//2 + zoom] * 0.02\n",
    "ax[1].set_xlim((-1*zoom)*dw, zoom*dw)\n",
    "ax[1].set_ylim((-1*zoom)*dw * 1/2, zoom*dw)\n",
    "\n",
    "plt.tight_layout()\n",
    "plt.show()\n"
   ]
  }
 ],
 "metadata": {
  "kernelspec": {
   "display_name": "recon",
   "language": "python",
   "name": "python3"
  },
  "language_info": {
   "codemirror_mode": {
    "name": "ipython",
    "version": 3
   },
   "file_extension": ".py",
   "mimetype": "text/x-python",
   "name": "python",
   "nbconvert_exporter": "python",
   "pygments_lexer": "ipython3",
   "version": "3.10.14"
  }
 },
 "nbformat": 4,
 "nbformat_minor": 2
}
