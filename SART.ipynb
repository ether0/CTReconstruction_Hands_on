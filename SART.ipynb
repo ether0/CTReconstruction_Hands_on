{
 "cells": [
  {
   "cell_type": "markdown",
   "metadata": {},
   "source": [
    "# SART Reconstruction"
   ]
  },
  {
   "cell_type": "code",
   "execution_count": 1,
   "metadata": {},
   "outputs": [],
   "source": [
    "import glob, sys, os\n",
    "import numpy as np\n",
    "import logging\n",
    "import time\n",
    "import matplotlib.pyplot as plt\n",
    "\n",
    "if 'google.colab' in sys.modules:\n",
    "    from google.colab import drive\n",
    "    drive.mount('/content/drive')\n",
    "    my_directory = '[[MY_Google_drive_directory]]'\n",
    "    os.chdir(f'/content/drive/MyDrive/{my_directory}')\n",
    "    !pip install pycuda\n",
    "\n",
    "from Reconstruction_pycuda import Reconstruction\n",
    "\n",
    "pi = np.pi\n",
    "logging.basicConfig(level = logging.INFO)\n",
    "log = logging.getLogger(__name__)\n",
    "log.setLevel(logging.DEBUG)"
   ]
  },
  {
   "cell_type": "code",
   "execution_count": 3,
   "metadata": {},
   "outputs": [],
   "source": [
    "nn = 256\n",
    "NumberOfDetectorPixels = [512, 384]\n",
    "NumberOfViews = 90\n",
    "savedir = 'results'\n",
    "\n",
    "showImage = True\n",
    "\n",
    "Niter = 30\n",
    "alpha = 1\n",
    "\n",
    "params = {'SourceInit': [0, 1000.0, 0], 'DetectorInit': [0, -500.0, 0], 'StartAngle': 0, 'EndAngle': 2 * pi,\n",
    "          'NumberOfDetectorPixels': NumberOfDetectorPixels, 'DetectorPixelSize': [0.5, 0.5], 'NumberOfViews': NumberOfViews,\n",
    "          'ImagePixelSpacing': [0.5, 0.5, 0.5], 'NumberOfImage': [nn, nn, nn], 'PhantomCenter': [0, 0, 0],\n",
    "          'RotationOrigin': [0, 0, 0], 'ReconCenter': [0, 0, 0], 'Method': 'Distance', 'FilterType': 'hann',\n",
    "          'cutoff': 1, 'GPU': 1, 'DetectorShape': 'Flat', 'Pitch': 0, 'DetectorOffset': [0, 0]}\n",
    "\n",
    "R = Reconstruction(params)"
   ]
  },
  {
   "cell_type": "markdown",
   "metadata": {},
   "source": [
    "Read projection"
   ]
  },
  {
   "cell_type": "code",
   "execution_count": 4,
   "metadata": {},
   "outputs": [],
   "source": [
    "projname = os.path.join(savedir, f'proj_SheppLogan_({NumberOfDetectorPixels[0]}x{NumberOfDetectorPixels[1]}x{NumberOfViews}).raw')\n",
    "\n",
    "filename = os.path.join('phantoms', f'Shepp_Logan_3d_({nn}x{nn}x{nn}).raw')\n",
    "ph = np.fromfile(filename, dtype=np.float32).reshape([nn, nn, nn])\n",
    "\n",
    "R.LoadProj(projname)\n",
    "proj0 = R.proj"
   ]
  },
  {
   "cell_type": "markdown",
   "metadata": {},
   "source": [
    "### SART\n",
    "$$\n",
    "x_j^{(k+1)} = x_j^{(k)} + \\frac{\\alpha}{\\sum_{i} a_{ij}} \\sum_{i}  \\left( a_{ij} \\frac{p_i - \\sum_{j} a_{ij} x_j^{(k)}}{\\sum_{j} a_{ij}} \\right)\n",
    "\n",
    "$$\n",
    "\n"
   ]
  },
  {
   "cell_type": "code",
   "execution_count": 5,
   "metadata": {},
   "outputs": [],
   "source": [
    "eps = 1e-5\n",
    "norm1 = Reconstruction(params)\n",
    "norm1.proj = np.ones(\n",
    "    [params['NumberOfViews'], params['NumberOfDetectorPixels'][1], params['NumberOfDetectorPixels'][0]],\n",
    "    dtype=np.float32)\n",
    "norm1.backward()\n",
    "norm2 = Reconstruction(params)\n",
    "norm2.image = np.ones(params['NumberOfImage'], dtype = np.float32)\n",
    "norm2.forward()"
   ]
  },
  {
   "cell_type": "code",
   "execution_count": null,
   "metadata": {},
   "outputs": [],
   "source": [
    "rmse = np.zeros(Niter, dtype=np.float32)\n",
    "start_time = time.time()\n",
    "for i in range(Niter):\n",
    "    log.info(f'iter: {i}')\n",
    "    recon_tmp = R.image\n",
    "    # proj_fp: projection at the current iteration [40, :, :]\n",
    "    # image_bp: backprojection of projection difference [96, :, :]\n",
    "    # image_upd: final updated image [96, :, :]\n",
    "\n",
    "    proj_fp = np.zeros([params['NumberOfDetectorPixels'][1], params['NumberOfDetectorPixels'][0]], dtype=np.float32)\n",
    "    image_bp = np.zeros(params['NumberOfImage'][0:2], dtype=np.float32)\n",
    "    image_upd = np.zeros(params['NumberOfImage'][0:2], dtype=np.float32)\n",
    "    #################### Your code here ####################\n",
    "\n",
    "    ########################################################\n",
    "    \n",
    "    rmse[i] = np.sqrt(np.mean((R.image - ph) ** 2))\n",
    "    log.info(f'RMSE: {rmse[i]}')\n",
    "\n",
    "    if (showImage == True) and (i % 5 == 0):\n",
    "        fig, ax = plt.subplots(1,3)  \n",
    "        ax[0].imshow(proj_fp, cmap='gray')\n",
    "        ax[1].imshow(image_bp, cmap='gray')\n",
    "        ax[2].imshow(image_upd, cmap='gray')\n",
    "\n",
    "        ax[0].set_title('Current Projection')\n",
    "        ax[1].set_title('Difference Backprojection')\n",
    "        ax[2].set_title('Updated Image')\n",
    "        fig.suptitle(f'{i+1}/{Niter} iter', fontsize=16)\n",
    "\n",
    "        for a in ax:\n",
    "            a.axis('off')\n",
    "\n",
    "        plt.tight_layout()\n",
    "        plt.show()\n",
    "\n",
    "log.info(f'SART: {time.time() - start_time:.3f} sec')\n",
    "R.SaveRecon(os.path.join(savedir, f'Recon_SheppLogan_sart_iter{Niter}_({R.image.shape[2]}x{R.image.shape[1]}x{R.image.shape[0]}).raw'))\n"
   ]
  }
 ],
 "metadata": {
  "kernelspec": {
   "display_name": "recon",
   "language": "python",
   "name": "python3"
  },
  "language_info": {
   "codemirror_mode": {
    "name": "ipython",
    "version": 3
   },
   "file_extension": ".py",
   "mimetype": "text/x-python",
   "name": "python",
   "nbconvert_exporter": "python",
   "pygments_lexer": "ipython3",
   "version": "3.10.14"
  }
 },
 "nbformat": 4,
 "nbformat_minor": 2
}
